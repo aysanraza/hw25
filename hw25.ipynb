{
 "cells": [
  {
   "cell_type": "markdown",
   "id": "9a246b9a-acca-452e-95d6-cdce128a641a",
   "metadata": {},
   "source": [
    "## Three Questions (HW#25)\n",
    "1. The most important purpose of github is to host codes, and thier versions.\n",
    "2. The version control is a sub system in github that would let you keep track of different versions of your project codes. This will help me in the project as if i made certain changes that are undesirable, i will be able to revert back to the previous version.\n",
    "3. Explain how in a group project github could help manage collaboration ? Github will let each memeber to work on thier part and provide tools to merge the different projects part toghther. It will also provide platform for teams to dicuss project and track issues."
   ]
  }
 ],
 "metadata": {
  "kernelspec": {
   "display_name": "Python 3 (ipykernel)",
   "language": "python",
   "name": "python3"
  },
  "language_info": {
   "codemirror_mode": {
    "name": "ipython",
    "version": 3
   },
   "file_extension": ".py",
   "mimetype": "text/x-python",
   "name": "python",
   "nbconvert_exporter": "python",
   "pygments_lexer": "ipython3",
   "version": "3.9.19"
  }
 },
 "nbformat": 4,
 "nbformat_minor": 5
}
